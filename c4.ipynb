{
 "cells": [
  {
   "cell_type": "code",
   "execution_count": 1,
   "id": "e0b4aedd-df57-47fe-a05a-118651c5fd9c",
   "metadata": {},
   "outputs": [],
   "source": [
    "import numpy as np"
   ]
  },
  {
   "cell_type": "code",
   "execution_count": 2,
   "id": "61fb0ec4-c7ec-4f7e-a2a0-48f6612e50d3",
   "metadata": {},
   "outputs": [],
   "source": [
    "one = np.ones((3,4))"
   ]
  },
  {
   "cell_type": "code",
   "execution_count": 3,
   "id": "c25a7d36-e3e5-4604-85d7-ad63f2bb4c58",
   "metadata": {},
   "outputs": [
    {
     "data": {
      "text/plain": [
       "array([[1., 1., 1., 1.],\n",
       "       [1., 1., 1., 1.],\n",
       "       [1., 1., 1., 1.]])"
      ]
     },
     "execution_count": 3,
     "metadata": {},
     "output_type": "execute_result"
    }
   ],
   "source": [
    "one"
   ]
  },
  {
   "cell_type": "code",
   "execution_count": 6,
   "id": "000a73ca-4f70-4071-971e-ea1bddc1272d",
   "metadata": {},
   "outputs": [],
   "source": [
    "one = np.ones_like(np.arange(10).reshape((5,2)))"
   ]
  },
  {
   "cell_type": "code",
   "execution_count": 7,
   "id": "e6c79080-27fe-43e5-a5e5-79fca69dd5d9",
   "metadata": {},
   "outputs": [
    {
     "data": {
      "text/plain": [
       "array([[1, 1],\n",
       "       [1, 1],\n",
       "       [1, 1],\n",
       "       [1, 1],\n",
       "       [1, 1]])"
      ]
     },
     "execution_count": 7,
     "metadata": {},
     "output_type": "execute_result"
    }
   ],
   "source": [
    "one"
   ]
  },
  {
   "cell_type": "code",
   "execution_count": 8,
   "id": "b7a48b33-1320-4e6d-9a3a-8b75a36a9649",
   "metadata": {},
   "outputs": [],
   "source": [
    "m = np.arange(10).reshape((2,5))"
   ]
  },
  {
   "cell_type": "code",
   "execution_count": 9,
   "id": "a2999ce7-ec1a-4fcb-b768-705e72d1c210",
   "metadata": {},
   "outputs": [
    {
     "data": {
      "text/plain": [
       "dtype('int64')"
      ]
     },
     "execution_count": 9,
     "metadata": {},
     "output_type": "execute_result"
    }
   ],
   "source": [
    "m.dtype"
   ]
  },
  {
   "cell_type": "code",
   "execution_count": 12,
   "id": "d54d4fd2-84a6-45c3-a80a-52c907d61259",
   "metadata": {},
   "outputs": [
    {
     "data": {
      "text/plain": [
       "array([[1, 1, 2, 3, 4],\n",
       "       [5, 6, 7, 8, 9]])"
      ]
     },
     "execution_count": 12,
     "metadata": {},
     "output_type": "execute_result"
    }
   ],
   "source": [
    "m[0,0] = 1.0\n",
    "m"
   ]
  },
  {
   "cell_type": "code",
   "execution_count": 13,
   "id": "fef7173e-d5bd-4391-a5e6-6dfb1c3acfc1",
   "metadata": {},
   "outputs": [
    {
     "data": {
      "text/plain": [
       "dtype('int64')"
      ]
     },
     "execution_count": 13,
     "metadata": {},
     "output_type": "execute_result"
    }
   ],
   "source": [
    "m.dtype"
   ]
  },
  {
   "cell_type": "code",
   "execution_count": 16,
   "id": "e3ab9e6e-886e-4c38-b742-c52d064ed568",
   "metadata": {},
   "outputs": [
    {
     "data": {
      "text/plain": [
       "array([[1, 1, 2, 3, 4],\n",
       "       [5, 6, 7, 8, 9]])"
      ]
     },
     "execution_count": 16,
     "metadata": {},
     "output_type": "execute_result"
    }
   ],
   "source": [
    "m[0,0] = 1.2\n",
    "m"
   ]
  },
  {
   "cell_type": "code",
   "execution_count": 18,
   "id": "c5ae221d-ae87-4ce2-bc3e-1d69a624d8fe",
   "metadata": {},
   "outputs": [],
   "source": [
    "boo = np.array(np.arange(10), dtype = \"?\")"
   ]
  },
  {
   "cell_type": "code",
   "execution_count": 19,
   "id": "5e83a7b8-0dcd-4f87-8a63-e2d31a4bc185",
   "metadata": {},
   "outputs": [
    {
     "data": {
      "text/plain": [
       "array([False,  True,  True,  True,  True,  True,  True,  True,  True,\n",
       "        True])"
      ]
     },
     "execution_count": 19,
     "metadata": {},
     "output_type": "execute_result"
    }
   ],
   "source": [
    "boo"
   ]
  },
  {
   "cell_type": "code",
   "execution_count": 26,
   "id": "b29a4169-5dee-45dc-a526-e4b50f35ab80",
   "metadata": {},
   "outputs": [],
   "source": [
    "com = np.array([[1 + 2j, 3 + 1j], [0 + 0.5j, 3 + 2j]], dtype = 'c8')"
   ]
  },
  {
   "cell_type": "code",
   "execution_count": 27,
   "id": "085f0cf3-d5e0-41fe-86bf-d12fed5f5c2a",
   "metadata": {},
   "outputs": [
    {
     "data": {
      "text/plain": [
       "array([[1.+2.j , 3.+1.j ],\n",
       "       [0.+0.5j, 3.+2.j ]], dtype=complex64)"
      ]
     },
     "execution_count": 27,
     "metadata": {},
     "output_type": "execute_result"
    }
   ],
   "source": [
    "com"
   ]
  },
  {
   "cell_type": "code",
   "execution_count": 28,
   "id": "b8f247dc-597b-4ecb-8aba-74f3fc74d7bb",
   "metadata": {},
   "outputs": [],
   "source": [
    "fm = m.astype(np.float64)"
   ]
  },
  {
   "cell_type": "code",
   "execution_count": 29,
   "id": "034dd93e-47cd-4d86-bb76-512fb79b1edb",
   "metadata": {},
   "outputs": [
    {
     "data": {
      "text/plain": [
       "array([[1., 1., 2., 3., 4.],\n",
       "       [5., 6., 7., 8., 9.]])"
      ]
     },
     "execution_count": 29,
     "metadata": {},
     "output_type": "execute_result"
    }
   ],
   "source": [
    "fm"
   ]
  },
  {
   "cell_type": "code",
   "execution_count": 30,
   "id": "5882d147-dd09-468f-9b36-331889615c5b",
   "metadata": {},
   "outputs": [],
   "source": [
    "fm[0,0]=1.2"
   ]
  },
  {
   "cell_type": "code",
   "execution_count": 32,
   "id": "db00bb53-c3f7-4d3b-9f18-db6beef5aa82",
   "metadata": {},
   "outputs": [
    {
     "data": {
      "text/plain": [
       "array([[1.2, 1. , 2. , 3. , 4. ],\n",
       "       [5. , 6. , 7. , 8. , 9. ]])"
      ]
     },
     "execution_count": 32,
     "metadata": {},
     "output_type": "execute_result"
    }
   ],
   "source": [
    "fm"
   ]
  },
  {
   "cell_type": "code",
   "execution_count": 33,
   "id": "e49dcf01-e374-4ebf-8fac-b60c4befbb9e",
   "metadata": {},
   "outputs": [],
   "source": [
    "sm = np.array([['1.2','3.1','2.55'],['9.0','3.4','4.6']])"
   ]
  },
  {
   "cell_type": "code",
   "execution_count": 34,
   "id": "7607ced2-eab2-495f-bae9-37f480f34598",
   "metadata": {},
   "outputs": [
    {
     "data": {
      "text/plain": [
       "array([['1.2', '3.1', '2.55'],\n",
       "       ['9.0', '3.4', '4.6']], dtype='<U4')"
      ]
     },
     "execution_count": 34,
     "metadata": {},
     "output_type": "execute_result"
    }
   ],
   "source": [
    "sm"
   ]
  },
  {
   "cell_type": "code",
   "execution_count": 35,
   "id": "e3910f29-5a94-4b9d-abcc-074d91b80903",
   "metadata": {},
   "outputs": [],
   "source": [
    "nm = sm.astype(np.float32)"
   ]
  },
  {
   "cell_type": "code",
   "execution_count": 36,
   "id": "a2496e4b-fa1b-40f1-ba37-a962dde07542",
   "metadata": {},
   "outputs": [
    {
     "data": {
      "text/plain": [
       "array([[1.2 , 3.1 , 2.55],\n",
       "       [9.  , 3.4 , 4.6 ]], dtype=float32)"
      ]
     },
     "execution_count": 36,
     "metadata": {},
     "output_type": "execute_result"
    }
   ],
   "source": [
    "nm"
   ]
  },
  {
   "cell_type": "code",
   "execution_count": 42,
   "id": "ef7c5d41-d68f-4d0d-bb04-476135f8de50",
   "metadata": {},
   "outputs": [],
   "source": [
    "#copy arr\n",
    "arr = np.arange(10).reshape(5,2)\n",
    "carr = arr.copy()\n",
    "carr[0,0] = 5"
   ]
  },
  {
   "cell_type": "code",
   "execution_count": 43,
   "id": "1593e490-8026-4086-9f53-e5c584c69bd6",
   "metadata": {},
   "outputs": [
    {
     "name": "stdout",
     "output_type": "stream",
     "text": [
      "[[0 1]\n",
      " [2 3]\n",
      " [4 5]\n",
      " [6 7]\n",
      " [8 9]]\n",
      "[[5 1]\n",
      " [2 3]\n",
      " [4 5]\n",
      " [6 7]\n",
      " [8 9]]\n"
     ]
    }
   ],
   "source": [
    "print(arr)\n",
    "print(carr)"
   ]
  },
  {
   "cell_type": "code",
   "execution_count": 63,
   "id": "465ecbc8-9708-4bee-819d-2d0c96cf6016",
   "metadata": {},
   "outputs": [],
   "source": [
    "arr1 = np.array([[1,2,3],[4,5,6]])"
   ]
  },
  {
   "cell_type": "code",
   "execution_count": 47,
   "id": "3c8daa71-9b63-4a82-b067-6c7686ff37fd",
   "metadata": {},
   "outputs": [],
   "source": [
    "from IPython.display import Markdown, display"
   ]
  },
  {
   "cell_type": "code",
   "execution_count": 48,
   "id": "c09df8b7-de56-4805-8aeb-2660a77d9616",
   "metadata": {},
   "outputs": [],
   "source": [
    "arr2 = np.array([[10, 20, 30],[40, 50, 60]])"
   ]
  },
  {
   "cell_type": "code",
   "execution_count": 65,
   "id": "ab2d079f-bdb2-424f-b1e3-58cfc3d3197b",
   "metadata": {},
   "outputs": [
    {
     "data": {
      "text/markdown": [
       "### '+, -, /, *' are all element-wise operation in NumPy\n",
       "\n",
       "`arr1` = [[1 2 3]\n",
       " [4 5 6]], `arr2` = [[10 20 30]\n",
       " [40 50 60]]\n",
       "\n",
       "`arr1` * `arr2` = [[ 10  40  90]\n",
       " [160 250 360]]\n",
       "\n",
       "`arr1` / `arr2` = [[0.1 0.1 0.1]\n",
       " [0.1 0.1 0.1]]\n",
       "\n",
       "`arr1` + `arr2` = [[11 22 33]\n",
       " [44 55 66]]\n",
       "\n",
       "`arr1` - `arr2` = [[ -9 -18 -27]\n",
       " [-36 -45 -54]]\n"
      ],
      "text/plain": [
       "<IPython.core.display.Markdown object>"
      ]
     },
     "metadata": {},
     "output_type": "display_data"
    }
   ],
   "source": [
    "display(Markdown(f\"\"\"### '+, -, /, *' are all element-wise operation in NumPy\\n\n",
    "`arr1` = {arr1}, `arr2` = {arr2}\\n\n",
    "`arr1` * `arr2` = {arr1 * arr2}\\n\n",
    "`arr1` / `arr2` = {arr1 / arr2}\\n\n",
    "`arr1` + `arr2` = {arr1 + arr2}\\n\n",
    "`arr1` - `arr2` = {arr1 - arr2}\\n\"\"\"))\n"
   ]
  },
  {
   "cell_type": "code",
   "execution_count": 66,
   "id": "8d2193ed-14f8-4593-be75-a12966d6bea5",
   "metadata": {},
   "outputs": [
    {
     "data": {
      "text/plain": [
       "array([[1.        , 0.5       , 0.33333333],\n",
       "       [0.25      , 0.2       , 0.16666667]])"
      ]
     },
     "execution_count": 66,
     "metadata": {},
     "output_type": "execute_result"
    }
   ],
   "source": [
    "1 / arr1"
   ]
  },
  {
   "cell_type": "code",
   "execution_count": 67,
   "id": "59361fbf-51e2-4a40-bf4a-167b5a600ed4",
   "metadata": {},
   "outputs": [],
   "source": [
    "comparison = arr1 < arr2"
   ]
  },
  {
   "cell_type": "code",
   "execution_count": 68,
   "id": "f2396d18-ff3b-48d2-b8af-4e99b85d8b8f",
   "metadata": {},
   "outputs": [
    {
     "data": {
      "text/plain": [
       "array([[ True,  True,  True],\n",
       "       [ True,  True,  True]])"
      ]
     },
     "execution_count": 68,
     "metadata": {},
     "output_type": "execute_result"
    }
   ],
   "source": [
    "comparison"
   ]
  },
  {
   "cell_type": "code",
   "execution_count": 69,
   "id": "84d79a50-f84c-4c01-9244-b209d667dafa",
   "metadata": {},
   "outputs": [],
   "source": [
    "arr = np.arange(10)"
   ]
  },
  {
   "cell_type": "code",
   "execution_count": 70,
   "id": "001eed19-6abb-4af3-95d1-e6398e19b3d5",
   "metadata": {},
   "outputs": [
    {
     "data": {
      "text/plain": [
       "np.int64(5)"
      ]
     },
     "execution_count": 70,
     "metadata": {},
     "output_type": "execute_result"
    }
   ],
   "source": [
    "arr[5]"
   ]
  },
  {
   "cell_type": "code",
   "execution_count": 71,
   "id": "248488fe-446e-480f-90b0-f088807dc8b5",
   "metadata": {},
   "outputs": [
    {
     "data": {
      "text/plain": [
       "array([5, 6, 7])"
      ]
     },
     "execution_count": 71,
     "metadata": {},
     "output_type": "execute_result"
    }
   ],
   "source": [
    "arr[5:8]"
   ]
  },
  {
   "cell_type": "code",
   "execution_count": 72,
   "id": "6dbcffb4-b53b-422f-8078-d5b5b35fa184",
   "metadata": {},
   "outputs": [
    {
     "data": {
      "text/plain": [
       "array([ 0, 10, 10,  3,  4,  5,  6,  7,  8,  9])"
      ]
     },
     "execution_count": 72,
     "metadata": {},
     "output_type": "execute_result"
    }
   ],
   "source": [
    "arr[1:3] = 10\n",
    "arr"
   ]
  },
  {
   "cell_type": "code",
   "execution_count": 74,
   "id": "6b298ccc-8b84-4e70-9c0e-5896b40ccadb",
   "metadata": {},
   "outputs": [],
   "source": [
    "part = arr[0:3]"
   ]
  },
  {
   "cell_type": "code",
   "execution_count": 75,
   "id": "633e20cb-004c-4c8b-ac74-38d461a4af50",
   "metadata": {},
   "outputs": [
    {
     "data": {
      "text/plain": [
       "array([ 0, 10, 10])"
      ]
     },
     "execution_count": 75,
     "metadata": {},
     "output_type": "execute_result"
    }
   ],
   "source": [
    "part"
   ]
  },
  {
   "cell_type": "code",
   "execution_count": 76,
   "id": "6e5addbd-301f-44ec-8111-1c511bf982cc",
   "metadata": {},
   "outputs": [],
   "source": [
    "part[:] = 11"
   ]
  },
  {
   "cell_type": "code",
   "execution_count": 77,
   "id": "c5d3c388-c7bf-4076-bbbb-84ec36e5234a",
   "metadata": {},
   "outputs": [
    {
     "data": {
      "text/plain": [
       "array([11, 11, 11,  3,  4,  5,  6,  7,  8,  9])"
      ]
     },
     "execution_count": 77,
     "metadata": {},
     "output_type": "execute_result"
    }
   ],
   "source": [
    "arr"
   ]
  },
  {
   "cell_type": "code",
   "execution_count": 78,
   "id": "c4aeb150-ae19-41ae-96ad-343c7be28732",
   "metadata": {},
   "outputs": [],
   "source": [
    "part = arr[:3].copy()"
   ]
  },
  {
   "cell_type": "code",
   "execution_count": 79,
   "id": "e3861d9b-c2a9-4b4b-bf8c-e64943928964",
   "metadata": {},
   "outputs": [
    {
     "data": {
      "text/plain": [
       "array([11, 11, 11])"
      ]
     },
     "execution_count": 79,
     "metadata": {},
     "output_type": "execute_result"
    }
   ],
   "source": [
    "part"
   ]
  },
  {
   "cell_type": "code",
   "execution_count": 80,
   "id": "f66fe90e-c258-4dbf-ad8b-06c8ea7032a2",
   "metadata": {},
   "outputs": [
    {
     "data": {
      "text/plain": [
       "array([11, 11, 11,  3,  4,  5,  6,  7,  8,  9])"
      ]
     },
     "execution_count": 80,
     "metadata": {},
     "output_type": "execute_result"
    }
   ],
   "source": [
    "arr"
   ]
  },
  {
   "cell_type": "code",
   "execution_count": 81,
   "id": "fd68a700-9b49-4c5c-8564-d276ad7620e2",
   "metadata": {},
   "outputs": [],
   "source": [
    "part[:] = 100"
   ]
  },
  {
   "cell_type": "code",
   "execution_count": 82,
   "id": "b4a044fe-2e58-4069-8d3f-07c5b9500c65",
   "metadata": {},
   "outputs": [
    {
     "data": {
      "text/plain": [
       "array([100, 100, 100])"
      ]
     },
     "execution_count": 82,
     "metadata": {},
     "output_type": "execute_result"
    }
   ],
   "source": [
    "part"
   ]
  },
  {
   "cell_type": "code",
   "execution_count": 83,
   "id": "18c32ade-221b-4fb7-9733-7d6c464392b3",
   "metadata": {},
   "outputs": [
    {
     "data": {
      "text/plain": [
       "array([11, 11, 11,  3,  4,  5,  6,  7,  8,  9])"
      ]
     },
     "execution_count": 83,
     "metadata": {},
     "output_type": "execute_result"
    }
   ],
   "source": [
    "arr"
   ]
  },
  {
   "cell_type": "code",
   "execution_count": 85,
   "id": "1fe796fc-ed38-4509-82a3-9d2377b0d530",
   "metadata": {},
   "outputs": [],
   "source": [
    "rerm = np.array([[1,2,3],[1,2,3],[1,2,3]])"
   ]
  },
  {
   "cell_type": "code",
   "execution_count": 86,
   "id": "1b3d62ef-0c96-4b6d-8a57-25455e2115ad",
   "metadata": {},
   "outputs": [
    {
     "data": {
      "text/plain": [
       "array([[1, 2, 3],\n",
       "       [1, 2, 3],\n",
       "       [1, 2, 3]])"
      ]
     },
     "execution_count": 86,
     "metadata": {},
     "output_type": "execute_result"
    }
   ],
   "source": [
    "rerm"
   ]
  },
  {
   "cell_type": "code",
   "execution_count": 87,
   "id": "439d3fee-651e-4d1d-bd8f-ec6acd87c2b4",
   "metadata": {},
   "outputs": [
    {
     "data": {
      "text/plain": [
       "np.int64(1)"
      ]
     },
     "execution_count": 87,
     "metadata": {},
     "output_type": "execute_result"
    }
   ],
   "source": [
    "rerm[0,0]"
   ]
  },
  {
   "cell_type": "code",
   "execution_count": 88,
   "id": "8067c8d6-847e-4ca9-84ce-7526a18e564a",
   "metadata": {},
   "outputs": [
    {
     "data": {
      "text/plain": [
       "np.int64(2)"
      ]
     },
     "execution_count": 88,
     "metadata": {},
     "output_type": "execute_result"
    }
   ],
   "source": [
    "rerm[0,1]"
   ]
  },
  {
   "cell_type": "code",
   "execution_count": 89,
   "id": "09301e6b-4b9d-43d5-b690-793187a43f1d",
   "metadata": {},
   "outputs": [
    {
     "data": {
      "text/plain": [
       "array([1, 2, 3])"
      ]
     },
     "execution_count": 89,
     "metadata": {},
     "output_type": "execute_result"
    }
   ],
   "source": [
    "rerm[0]"
   ]
  },
  {
   "cell_type": "code",
   "execution_count": 90,
   "id": "4fecde65-d43b-447e-a684-a43ec10121d7",
   "metadata": {},
   "outputs": [
    {
     "data": {
      "text/plain": [
       "array([1, 2, 3])"
      ]
     },
     "execution_count": 90,
     "metadata": {},
     "output_type": "execute_result"
    }
   ],
   "source": [
    "rerm[2]"
   ]
  },
  {
   "cell_type": "code",
   "execution_count": 91,
   "id": "e20ad6c6-48d9-4807-8498-553baf4ab62b",
   "metadata": {},
   "outputs": [],
   "source": [
    "arr = np.arange(9).reshape((3,3))"
   ]
  },
  {
   "cell_type": "code",
   "execution_count": 92,
   "id": "cfd342a7-2549-480b-ad3b-d0ec22858743",
   "metadata": {},
   "outputs": [
    {
     "data": {
      "text/plain": [
       "array([[0, 1, 2],\n",
       "       [3, 4, 5],\n",
       "       [6, 7, 8]])"
      ]
     },
     "execution_count": 92,
     "metadata": {},
     "output_type": "execute_result"
    }
   ],
   "source": [
    "arr"
   ]
  },
  {
   "cell_type": "code",
   "execution_count": 93,
   "id": "7dfc5692-dfcb-4484-855c-db109bf3e378",
   "metadata": {},
   "outputs": [
    {
     "data": {
      "text/plain": [
       "array([[0, 1, 2],\n",
       "       [3, 4, 5]])"
      ]
     },
     "execution_count": 93,
     "metadata": {},
     "output_type": "execute_result"
    }
   ],
   "source": [
    "arr[:2]"
   ]
  },
  {
   "cell_type": "code",
   "execution_count": 94,
   "id": "ff3ee80f-1e23-4479-a043-f84702b600fe",
   "metadata": {},
   "outputs": [
    {
     "data": {
      "text/plain": [
       "array([[3, 4, 5]])"
      ]
     },
     "execution_count": 94,
     "metadata": {},
     "output_type": "execute_result"
    }
   ],
   "source": [
    "arr[:2][1:]"
   ]
  },
  {
   "cell_type": "code",
   "execution_count": 95,
   "id": "364d9ae5-cbad-44ed-aaff-d7c3f33418b6",
   "metadata": {},
   "outputs": [
    {
     "data": {
      "text/plain": [
       "np.int64(5)"
      ]
     },
     "execution_count": 95,
     "metadata": {},
     "output_type": "execute_result"
    }
   ],
   "source": [
    "arr[1,2]"
   ]
  },
  {
   "cell_type": "code",
   "execution_count": 96,
   "id": "3308022a-09d5-4b2d-87e7-33e3d050b92d",
   "metadata": {},
   "outputs": [
    {
     "data": {
      "text/plain": [
       "array([[3, 4, 5],\n",
       "       [6, 7, 8]])"
      ]
     },
     "execution_count": 96,
     "metadata": {},
     "output_type": "execute_result"
    }
   ],
   "source": [
    "arr[1:]"
   ]
  },
  {
   "cell_type": "code",
   "execution_count": 97,
   "id": "bbbd89df-8c16-4ab2-921f-a81842b8beff",
   "metadata": {},
   "outputs": [],
   "source": [
    "lower_dim_slice = arr[1, :2]"
   ]
  },
  {
   "cell_type": "code",
   "execution_count": 98,
   "id": "051ea98a-0b77-4d54-a844-3c341dd15264",
   "metadata": {},
   "outputs": [
    {
     "data": {
      "text/plain": [
       "array([3, 4])"
      ]
     },
     "execution_count": 98,
     "metadata": {},
     "output_type": "execute_result"
    }
   ],
   "source": [
    "lower_dim_slice"
   ]
  },
  {
   "cell_type": "code",
   "execution_count": 99,
   "id": "cfafc4ac-5d4a-4736-b1a4-57f7d02e9b13",
   "metadata": {},
   "outputs": [
    {
     "data": {
      "text/plain": [
       "(2,)"
      ]
     },
     "execution_count": 99,
     "metadata": {},
     "output_type": "execute_result"
    }
   ],
   "source": [
    "lower_dim_slice.shape"
   ]
  },
  {
   "cell_type": "code",
   "execution_count": 100,
   "id": "03dc07f9-48c8-4230-8ad6-5d66eaac1c4f",
   "metadata": {},
   "outputs": [
    {
     "data": {
      "text/plain": [
       "array([2, 5])"
      ]
     },
     "execution_count": 100,
     "metadata": {},
     "output_type": "execute_result"
    }
   ],
   "source": [
    "arr[:2, 2]"
   ]
  },
  {
   "cell_type": "code",
   "execution_count": 101,
   "id": "6ba2f5da-52a4-47a5-876e-7c7e37c4832e",
   "metadata": {},
   "outputs": [
    {
     "data": {
      "text/plain": [
       "(2,)"
      ]
     },
     "execution_count": 101,
     "metadata": {},
     "output_type": "execute_result"
    }
   ],
   "source": [
    "arr[:2,2].shape"
   ]
  },
  {
   "cell_type": "code",
   "execution_count": 102,
   "id": "cc5df2d1-5362-43e6-b3fe-2cdbaaddcce5",
   "metadata": {},
   "outputs": [
    {
     "data": {
      "text/plain": [
       "array([1, 4])"
      ]
     },
     "execution_count": 102,
     "metadata": {},
     "output_type": "execute_result"
    }
   ],
   "source": [
    "arr[:2, 1]"
   ]
  },
  {
   "cell_type": "code",
   "execution_count": 108,
   "id": "3429c946-480e-443b-9527-986591b9824f",
   "metadata": {},
   "outputs": [
    {
     "data": {
      "text/markdown": [
       "### Boolean ndarray\n",
       "\n",
       "Comparison with ndarray will yields boolean ndarray\n",
       "\n",
       "`boolm` < 18 yields [[ True False False False  True False False  True]]"
      ],
      "text/plain": [
       "<IPython.core.display.Markdown object>"
      ]
     },
     "metadata": {},
     "output_type": "display_data"
    }
   ],
   "source": [
    "boolm = np.array([[10, 20, 19, 20, 12, 25, 20, 17]])\n",
    "boo = boolm < 18\n",
    "display(Markdown(f\"\"\"### Boolean ndarray\\n\n",
    "Comparison with ndarray will yields boolean ndarray\\n\n",
    "`boolm` < 18 yields {boo}\"\"\"))"
   ]
  },
  {
   "cell_type": "code",
   "execution_count": 9,
   "id": "60d1fd78-dd79-411f-9d88-46b41809e52b",
   "metadata": {},
   "outputs": [],
   "source": [
    "import numpy as np\n",
    "from IPython.display import display, Markdown\n",
    "names = np.array([\"Bob\", \"Alice\", \"Lucy\", \"Bob\", \"John\", \"Bob\"])"
   ]
  },
  {
   "cell_type": "code",
   "execution_count": 3,
   "id": "7c5556e0-9bea-4417-89a0-faf641671115",
   "metadata": {},
   "outputs": [],
   "source": [
    "data = np.array([[4,7],[1,2],[-4,5],[3,1],[5, 6], [7, 5]])"
   ]
  },
  {
   "cell_type": "code",
   "execution_count": 4,
   "id": "3f7a49c0-09e1-4a52-8b47-761dca6e06a8",
   "metadata": {},
   "outputs": [],
   "source": [
    "bobrows = names == \"Bob\""
   ]
  },
  {
   "cell_type": "code",
   "execution_count": 5,
   "id": "73e57bdd-a814-4417-8386-831426368f06",
   "metadata": {},
   "outputs": [
    {
     "data": {
      "text/plain": [
       "array([ True, False, False,  True, False,  True])"
      ]
     },
     "execution_count": 5,
     "metadata": {},
     "output_type": "execute_result"
    }
   ],
   "source": [
    "bobrows"
   ]
  },
  {
   "cell_type": "code",
   "execution_count": 6,
   "id": "8777a754-2fb4-437d-be95-55814fcd5127",
   "metadata": {},
   "outputs": [
    {
     "data": {
      "text/plain": [
       "array([[4, 7],\n",
       "       [3, 1],\n",
       "       [7, 5]])"
      ]
     },
     "execution_count": 6,
     "metadata": {},
     "output_type": "execute_result"
    }
   ],
   "source": [
    "data[bobrows]"
   ]
  },
  {
   "cell_type": "code",
   "execution_count": 11,
   "id": "236ee14a-caf4-4169-af3f-9270b567f6d8",
   "metadata": {},
   "outputs": [
    {
     "data": {
      "text/markdown": [
       "### Use boolean ndarray to get rows\n",
       "\n",
       "`names` = ['Bob' 'Alice' 'Lucy' 'Bob' 'John' 'Bob'], `data` = [[ 4  7]\n",
       " [ 1  2]\n",
       " [-4  5]\n",
       " [ 3  1]\n",
       " [ 5  6]\n",
       " [ 7  5]]\n",
       "\n",
       "'bobrows' = `name` == \"Bob\" (Which is [ True False False  True False  True]\n",
       "\n",
       "then `data[bobrows]` = [[4 7]\n",
       " [3 1]\n",
       " [7 5]]"
      ],
      "text/plain": [
       "<IPython.core.display.Markdown object>"
      ]
     },
     "metadata": {},
     "output_type": "display_data"
    }
   ],
   "source": [
    "display(Markdown(f\"\"\"### Use boolean ndarray to get rows\\n\n",
    "`names` = {names}, `data` = {data}\\n\n",
    "'bobrows' = `name` == \"Bob\" (Which is {bobrows}\\n\n",
    "then `data[bobrows]` = {data[bobrows]}\"\"\"))"
   ]
  },
  {
   "cell_type": "code",
   "execution_count": null,
   "id": "16b79152-5259-4bf2-969c-e091e390b691",
   "metadata": {},
   "outputs": [],
   "source": []
  }
 ],
 "metadata": {
  "kernelspec": {
   "display_name": "Python 3 (ipykernel)",
   "language": "python",
   "name": "python3"
  },
  "language_info": {
   "codemirror_mode": {
    "name": "ipython",
    "version": 3
   },
   "file_extension": ".py",
   "mimetype": "text/x-python",
   "name": "python",
   "nbconvert_exporter": "python",
   "pygments_lexer": "ipython3",
   "version": "3.11.7"
  }
 },
 "nbformat": 4,
 "nbformat_minor": 5
}
