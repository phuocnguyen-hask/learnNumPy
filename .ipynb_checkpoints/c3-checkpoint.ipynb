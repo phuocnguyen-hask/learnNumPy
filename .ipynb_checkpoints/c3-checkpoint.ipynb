{
 "cells": [
  {
   "cell_type": "code",
   "execution_count": 1,
   "id": "b67d4c41-6cc8-4b70-ac8a-b13aa7e5e115",
   "metadata": {},
   "outputs": [],
   "source": [
    "tup = (4, 5, 6)"
   ]
  },
  {
   "cell_type": "code",
   "execution_count": 3,
   "id": "1e3e5888-4944-4596-8c1a-0e70afc8ed47",
   "metadata": {},
   "outputs": [],
   "source": [
    "a, b, c = tup"
   ]
  },
  {
   "cell_type": "code",
   "execution_count": 7,
   "id": "95e668a7-9a34-4da8-93ca-8e2da1623a5d",
   "metadata": {},
   "outputs": [
    {
     "data": {
      "text/plain": [
       "4"
      ]
     },
     "execution_count": 7,
     "metadata": {},
     "output_type": "execute_result"
    }
   ],
   "source": [
    "a"
   ]
  },
  {
   "cell_type": "code",
   "execution_count": 8,
   "id": "20dbc9af-4cb9-4e9e-ba81-87fb56b9c43c",
   "metadata": {},
   "outputs": [
    {
     "data": {
      "text/plain": [
       "5"
      ]
     },
     "execution_count": 8,
     "metadata": {},
     "output_type": "execute_result"
    }
   ],
   "source": [
    "b"
   ]
  },
  {
   "cell_type": "code",
   "execution_count": 9,
   "id": "d8f8f030-eeb2-4c46-9d86-9b9ba286388f",
   "metadata": {},
   "outputs": [],
   "source": [
    "a, b = 1, 2"
   ]
  },
  {
   "cell_type": "code",
   "execution_count": 11,
   "id": "ddbe478b-668a-4d03-9808-063f08bb3dcf",
   "metadata": {},
   "outputs": [
    {
     "data": {
      "text/plain": [
       "(1, 2)"
      ]
     },
     "execution_count": 11,
     "metadata": {},
     "output_type": "execute_result"
    }
   ],
   "source": [
    "a, b"
   ]
  },
  {
   "cell_type": "code",
   "execution_count": 12,
   "id": "4caae375-e89b-4ac1-b5d8-1cd216b05483",
   "metadata": {},
   "outputs": [],
   "source": [
    "b, a = a, b"
   ]
  },
  {
   "cell_type": "code",
   "execution_count": 13,
   "id": "d6f9463a-c7c0-4e9f-880a-53bc8b073393",
   "metadata": {},
   "outputs": [
    {
     "data": {
      "text/plain": [
       "(2, 1)"
      ]
     },
     "execution_count": 13,
     "metadata": {},
     "output_type": "execute_result"
    }
   ],
   "source": [
    "a, b"
   ]
  },
  {
   "cell_type": "code",
   "execution_count": 14,
   "id": "2ebdf35f-5ed2-4dc6-b5a4-562a057de2ff",
   "metadata": {},
   "outputs": [],
   "source": [
    "sq = [(1, 2, 3), (4, 5, 6), (7, 8, 9)]"
   ]
  },
  {
   "cell_type": "code",
   "execution_count": 15,
   "id": "7bffb271-4dab-41ee-88bf-504352cc8281",
   "metadata": {},
   "outputs": [
    {
     "name": "stdout",
     "output_type": "stream",
     "text": [
      "a = 1, b = 2, c = 3\n",
      "a = 4, b = 5, c = 6\n",
      "a = 7, b = 8, c = 9\n"
     ]
    }
   ],
   "source": [
    "for tup in sq:\n",
    "    print(f\"a = {tup[0]}, b = {tup[1]}, c = {tup[2]}\")\n"
   ]
  },
  {
   "cell_type": "code",
   "execution_count": 16,
   "id": "4baf9dfe-79ab-4616-ba88-dd08baffa613",
   "metadata": {},
   "outputs": [
    {
     "name": "stdout",
     "output_type": "stream",
     "text": [
      "a=1 b=2 c=3\n",
      "a=4 b=5 c=6\n",
      "a=7 b=8 c=9\n"
     ]
    }
   ],
   "source": [
    "for a, b, c in sq:\n",
    "    print(f\"a={a} b={b} c={c}\")"
   ]
  },
  {
   "cell_type": "code",
   "execution_count": 17,
   "id": "7e8e1c9b-99f2-467e-8930-fa49534b2d15",
   "metadata": {},
   "outputs": [],
   "source": [
    "a,b,c,*rest = [1, 2, 3, 4, 5, 6]"
   ]
  },
  {
   "cell_type": "code",
   "execution_count": 18,
   "id": "f57956a9-6e9a-4471-a12c-2048b735123d",
   "metadata": {},
   "outputs": [
    {
     "name": "stdout",
     "output_type": "stream",
     "text": [
      "1\n",
      "2\n",
      "3\n",
      "[4, 5, 6]\n"
     ]
    }
   ],
   "source": [
    "print(a)\n",
    "print(b)\n",
    "print(c)\n",
    "print(rest)"
   ]
  },
  {
   "cell_type": "code",
   "execution_count": 19,
   "id": "f3f7b1e1-f057-45aa-8dc2-5b47d1197499",
   "metadata": {},
   "outputs": [],
   "source": [
    "nt = (2,3,2,3,2,2,2,2,4,10,1029, 3)"
   ]
  },
  {
   "cell_type": "code",
   "execution_count": 20,
   "id": "57129865-3032-462c-95d9-a407871ee503",
   "metadata": {},
   "outputs": [
    {
     "data": {
      "text/plain": [
       "3"
      ]
     },
     "execution_count": 20,
     "metadata": {},
     "output_type": "execute_result"
    }
   ],
   "source": [
    "nt.count(3)"
   ]
  },
  {
   "cell_type": "code",
   "execution_count": 21,
   "id": "e6a39898-968d-4a32-856c-8e90e154ec11",
   "metadata": {},
   "outputs": [
    {
     "data": {
      "text/plain": [
       "6"
      ]
     },
     "execution_count": 21,
     "metadata": {},
     "output_type": "execute_result"
    }
   ],
   "source": [
    "nt.count(2)"
   ]
  },
  {
   "cell_type": "code",
   "execution_count": 22,
   "id": "4977dc26-6e7f-4009-a5e5-2a77d48a5a2a",
   "metadata": {},
   "outputs": [
    {
     "data": {
      "text/plain": [
       "0"
      ]
     },
     "execution_count": 22,
     "metadata": {},
     "output_type": "execute_result"
    }
   ],
   "source": [
    "nt.count(5)"
   ]
  },
  {
   "cell_type": "code",
   "execution_count": 23,
   "id": "cb198944-a780-412e-b394-fee76bd26fab",
   "metadata": {},
   "outputs": [
    {
     "data": {
      "text/plain": [
       "1"
      ]
     },
     "execution_count": 23,
     "metadata": {},
     "output_type": "execute_result"
    }
   ],
   "source": [
    "nt.count(1029)"
   ]
  },
  {
   "cell_type": "code",
   "execution_count": 24,
   "id": "680dffa3-9f97-4a62-abac-844a0328fd90",
   "metadata": {},
   "outputs": [],
   "source": [
    "l = [\"dog\", \"aligator\", \"lion\"]"
   ]
  },
  {
   "cell_type": "code",
   "execution_count": 25,
   "id": "3d1bdc8e-0c18-4baf-a4d8-d38c7c3c4a42",
   "metadata": {},
   "outputs": [
    {
     "data": {
      "text/plain": [
       "['dog', 'aligator', 'lion']"
      ]
     },
     "execution_count": 25,
     "metadata": {},
     "output_type": "execute_result"
    }
   ],
   "source": [
    "l"
   ]
  },
  {
   "cell_type": "code",
   "execution_count": 26,
   "id": "03f8eacb-c0a0-4522-970e-f4bba198f248",
   "metadata": {},
   "outputs": [],
   "source": [
    "l.append(\"dwarf\")"
   ]
  },
  {
   "cell_type": "code",
   "execution_count": 27,
   "id": "52e36e45-13e6-4d21-9300-7d1e07336420",
   "metadata": {},
   "outputs": [
    {
     "data": {
      "text/plain": [
       "['dog', 'aligator', 'lion', 'dwarf']"
      ]
     },
     "execution_count": 27,
     "metadata": {},
     "output_type": "execute_result"
    }
   ],
   "source": [
    "l"
   ]
  },
  {
   "cell_type": "code",
   "execution_count": 28,
   "id": "0c50a568-9844-4197-9fbb-e3899f3dc25f",
   "metadata": {},
   "outputs": [],
   "source": [
    "l.insert(1, \"cat\")"
   ]
  },
  {
   "cell_type": "code",
   "execution_count": 29,
   "id": "faa53524-d622-4e1e-b550-5577db9d7dfd",
   "metadata": {},
   "outputs": [
    {
     "data": {
      "text/plain": [
       "['dog', 'cat', 'aligator', 'lion', 'dwarf']"
      ]
     },
     "execution_count": 29,
     "metadata": {},
     "output_type": "execute_result"
    }
   ],
   "source": [
    "l"
   ]
  },
  {
   "cell_type": "code",
   "execution_count": 31,
   "id": "72864cb5-986c-4f9c-89b7-d78e9a326d17",
   "metadata": {},
   "outputs": [
    {
     "data": {
      "text/plain": [
       "'lion'"
      ]
     },
     "execution_count": 31,
     "metadata": {},
     "output_type": "execute_result"
    }
   ],
   "source": [
    "l.pop(3)"
   ]
  },
  {
   "cell_type": "code",
   "execution_count": 32,
   "id": "65479359-c9ad-4e4f-9ae6-75bb97d0a75d",
   "metadata": {},
   "outputs": [
    {
     "data": {
      "text/plain": [
       "['dog', 'cat', 'aligator', 'dwarf']"
      ]
     },
     "execution_count": 32,
     "metadata": {},
     "output_type": "execute_result"
    }
   ],
   "source": [
    "l"
   ]
  },
  {
   "cell_type": "code",
   "execution_count": 33,
   "id": "ce5bc3a0-ad91-4661-a08c-83c85d20275b",
   "metadata": {},
   "outputs": [],
   "source": [
    "l.insert(3, \"lion\")"
   ]
  },
  {
   "cell_type": "code",
   "execution_count": 34,
   "id": "15d673e3-0b8c-433e-9599-6f657bf9a3c5",
   "metadata": {},
   "outputs": [
    {
     "data": {
      "text/plain": [
       "['dog', 'cat', 'aligator', 'lion', 'dwarf']"
      ]
     },
     "execution_count": 34,
     "metadata": {},
     "output_type": "execute_result"
    }
   ],
   "source": [
    "l"
   ]
  },
  {
   "cell_type": "code",
   "execution_count": 35,
   "id": "fbb0a466-5326-44dc-8784-73b60a6222fe",
   "metadata": {},
   "outputs": [],
   "source": [
    "l.remove(\"lion\")"
   ]
  },
  {
   "cell_type": "code",
   "execution_count": 36,
   "id": "ddf3cc5f-ecc8-4b3e-be95-b78bdd6a3a93",
   "metadata": {},
   "outputs": [
    {
     "data": {
      "text/plain": [
       "['dog', 'cat', 'aligator', 'dwarf']"
      ]
     },
     "execution_count": 36,
     "metadata": {},
     "output_type": "execute_result"
    }
   ],
   "source": [
    "l"
   ]
  },
  {
   "cell_type": "code",
   "execution_count": 37,
   "id": "3e0fee6b-06d9-4425-ab80-f2d90a345614",
   "metadata": {},
   "outputs": [
    {
     "data": {
      "text/plain": [
       "False"
      ]
     },
     "execution_count": 37,
     "metadata": {},
     "output_type": "execute_result"
    }
   ],
   "source": [
    "\"lion\" in l"
   ]
  },
  {
   "cell_type": "code",
   "execution_count": 38,
   "id": "bd33707e-0ff6-4d3e-a296-96ac141d68df",
   "metadata": {},
   "outputs": [
    {
     "data": {
      "text/plain": [
       "True"
      ]
     },
     "execution_count": 38,
     "metadata": {},
     "output_type": "execute_result"
    }
   ],
   "source": [
    "\"dwarf\" in l"
   ]
  },
  {
   "cell_type": "code",
   "execution_count": null,
   "id": "7a1e5821-23a7-4e74-9278-e62489707ef8",
   "metadata": {},
   "outputs": [],
   "source": []
  },
  {
   "cell_type": "code",
   "execution_count": 39,
   "id": "823b39a4-6c8b-406b-9f44-cb491d2e414f",
   "metadata": {},
   "outputs": [
    {
     "data": {
      "text/plain": [
       "True"
      ]
     },
     "execution_count": 39,
     "metadata": {},
     "output_type": "execute_result"
    }
   ],
   "source": [
    "\"lion\" not in l"
   ]
  },
  {
   "cell_type": "code",
   "execution_count": 42,
   "id": "d2df68c5-3425-4e72-9810-6b1ca6fcdc29",
   "metadata": {},
   "outputs": [
    {
     "data": {
      "text/plain": [
       "[1, 2, 3, 'four', 'five', 'six']"
      ]
     },
     "execution_count": 42,
     "metadata": {},
     "output_type": "execute_result"
    }
   ],
   "source": [
    "[1, 2, 3, \"four\"] + [\"five\", \"six\"]"
   ]
  },
  {
   "cell_type": "code",
   "execution_count": 43,
   "id": "a504ccd6-00bb-4724-ab7c-3481c3e3f063",
   "metadata": {},
   "outputs": [
    {
     "data": {
      "text/plain": [
       "['dog', 'cat', 'aligator', 'dwarf']"
      ]
     },
     "execution_count": 43,
     "metadata": {},
     "output_type": "execute_result"
    }
   ],
   "source": [
    "l"
   ]
  },
  {
   "cell_type": "code",
   "execution_count": 45,
   "id": "f3d262aa-528e-4c87-b965-92d747bc3807",
   "metadata": {},
   "outputs": [],
   "source": [
    "l.extend([\"pegasus\", \"dragon\", \"lesstail\", \"Bumbo\"])"
   ]
  },
  {
   "cell_type": "code",
   "execution_count": 46,
   "id": "ba0bf826-f431-4826-a714-0b47d9665f1c",
   "metadata": {},
   "outputs": [
    {
     "data": {
      "text/plain": [
       "['dog', 'cat', 'aligator', 'dwarf', 'pegasus', 'dragon', 'lesstail', 'Bumbo']"
      ]
     },
     "execution_count": 46,
     "metadata": {},
     "output_type": "execute_result"
    }
   ],
   "source": [
    "l"
   ]
  },
  {
   "cell_type": "code",
   "execution_count": 47,
   "id": "36d02944-19f3-4a96-bd99-9313f0d9b39f",
   "metadata": {},
   "outputs": [],
   "source": [
    "l.sort()"
   ]
  },
  {
   "cell_type": "code",
   "execution_count": 48,
   "id": "d9c099e4-5a47-42e6-aa1d-1684e2b29337",
   "metadata": {},
   "outputs": [
    {
     "data": {
      "text/plain": [
       "['Bumbo', 'aligator', 'cat', 'dog', 'dragon', 'dwarf', 'lesstail', 'pegasus']"
      ]
     },
     "execution_count": 48,
     "metadata": {},
     "output_type": "execute_result"
    }
   ],
   "source": [
    "l"
   ]
  },
  {
   "cell_type": "code",
   "execution_count": 49,
   "id": "ba7dbbfd-e183-48b3-864c-b42d3181c2a5",
   "metadata": {},
   "outputs": [],
   "source": [
    "l.sort(key=len)"
   ]
  },
  {
   "cell_type": "code",
   "execution_count": 50,
   "id": "a04c41bf-1ca5-4f97-8c1d-f585e275ec5d",
   "metadata": {},
   "outputs": [
    {
     "data": {
      "text/plain": [
       "['cat', 'dog', 'Bumbo', 'dwarf', 'dragon', 'pegasus', 'aligator', 'lesstail']"
      ]
     },
     "execution_count": 50,
     "metadata": {},
     "output_type": "execute_result"
    }
   ],
   "source": [
    "l"
   ]
  },
  {
   "cell_type": "code",
   "execution_count": 51,
   "id": "3dbd5803-2b3c-468d-80d8-78d4874dd7bb",
   "metadata": {},
   "outputs": [
    {
     "data": {
      "text/plain": [
       "['dog']"
      ]
     },
     "execution_count": 51,
     "metadata": {},
     "output_type": "execute_result"
    }
   ],
   "source": [
    "l[1:2]"
   ]
  },
  {
   "cell_type": "code",
   "execution_count": 52,
   "id": "069a7be7-943b-4515-8157-ce63caf4646f",
   "metadata": {},
   "outputs": [
    {
     "data": {
      "text/plain": [
       "['dog', 'Bumbo', 'dwarf']"
      ]
     },
     "execution_count": 52,
     "metadata": {},
     "output_type": "execute_result"
    }
   ],
   "source": [
    "l[1:4]"
   ]
  },
  {
   "cell_type": "code",
   "execution_count": 53,
   "id": "0d260f86-969e-4327-a9e1-80b55cf19025",
   "metadata": {},
   "outputs": [
    {
     "data": {
      "text/plain": [
       "['cat', 'dog', 'Bumbo', 'dwarf', 'dragon', 'pegasus', 'aligator']"
      ]
     },
     "execution_count": 53,
     "metadata": {},
     "output_type": "execute_result"
    }
   ],
   "source": [
    "l[:-1]"
   ]
  },
  {
   "cell_type": "code",
   "execution_count": 54,
   "id": "68be3a84-3580-46be-8e03-8c1024251cd6",
   "metadata": {},
   "outputs": [
    {
     "data": {
      "text/plain": [
       "['pegasus', 'aligator', 'lesstail']"
      ]
     },
     "execution_count": 54,
     "metadata": {},
     "output_type": "execute_result"
    }
   ],
   "source": [
    "l[-3:]"
   ]
  },
  {
   "cell_type": "code",
   "execution_count": 55,
   "id": "0b27567d-5444-4542-82cc-83b001adda41",
   "metadata": {},
   "outputs": [
    {
     "data": {
      "text/plain": [
       "['cat', 'dog', 'Bumbo', 'dwarf', 'dragon', 'pegasus', 'aligator', 'lesstail']"
      ]
     },
     "execution_count": 55,
     "metadata": {},
     "output_type": "execute_result"
    }
   ],
   "source": [
    "l"
   ]
  },
  {
   "cell_type": "code",
   "execution_count": 56,
   "id": "a633865d-26f0-4857-8561-46ad2ef97ab0",
   "metadata": {},
   "outputs": [
    {
     "data": {
      "text/plain": [
       "['cat', 'dog', 'Bumbo', 'dwarf', 'dragon', 'pegasus', 'aligator', 'lesstail']"
      ]
     },
     "execution_count": 56,
     "metadata": {},
     "output_type": "execute_result"
    }
   ],
   "source": [
    "l[:]"
   ]
  },
  {
   "cell_type": "code",
   "execution_count": 57,
   "id": "9526b9d0-7bb8-4593-a392-ca7e92724c09",
   "metadata": {},
   "outputs": [
    {
     "data": {
      "text/plain": [
       "['pegasus', 'aligator', 'lesstail']"
      ]
     },
     "execution_count": 57,
     "metadata": {},
     "output_type": "execute_result"
    }
   ],
   "source": [
    "l[-3:]"
   ]
  },
  {
   "cell_type": "code",
   "execution_count": 58,
   "id": "2aec23e8-efcc-4798-87bc-a792e89bb4ba",
   "metadata": {},
   "outputs": [
    {
     "data": {
      "text/plain": [
       "['cat', 'dog', 'Bumbo', 'dwarf']"
      ]
     },
     "execution_count": 58,
     "metadata": {},
     "output_type": "execute_result"
    }
   ],
   "source": [
    "l[:4]"
   ]
  },
  {
   "cell_type": "code",
   "execution_count": 59,
   "id": "e813b17e-680f-4a8c-b2a8-6fcc3d00f322",
   "metadata": {},
   "outputs": [
    {
     "data": {
      "text/plain": [
       "['cat', 'dog', 'Bumbo', 'dwarf', 'dragon', 'pegasus', 'aligator']"
      ]
     },
     "execution_count": 59,
     "metadata": {},
     "output_type": "execute_result"
    }
   ],
   "source": [
    "l[:-1]"
   ]
  },
  {
   "cell_type": "code",
   "execution_count": 60,
   "id": "8577d11f-4350-42ca-a887-16b2fbe7420e",
   "metadata": {},
   "outputs": [
    {
     "data": {
      "text/plain": [
       "['cat', 'dog', 'Bumbo']"
      ]
     },
     "execution_count": 60,
     "metadata": {},
     "output_type": "execute_result"
    }
   ],
   "source": [
    "l[:3]"
   ]
  },
  {
   "cell_type": "code",
   "execution_count": 61,
   "id": "19017bde-62fe-4821-b0a0-7d69a8537f64",
   "metadata": {},
   "outputs": [
    {
     "data": {
      "text/plain": [
       "['cat', 'dog', 'Bumbo', 'dwarf', 'dragon']"
      ]
     },
     "execution_count": 61,
     "metadata": {},
     "output_type": "execute_result"
    }
   ],
   "source": [
    "l[:-3]"
   ]
  },
  {
   "cell_type": "code",
   "execution_count": 62,
   "id": "3e82be9d-35f2-4d6a-addf-fc7e2e4206b7",
   "metadata": {},
   "outputs": [],
   "source": [
    "dict = {\"me\" : 1, \"hack\" : 2, \"BUmmle\" : 3, \"Luc\": 4}"
   ]
  },
  {
   "cell_type": "code",
   "execution_count": 63,
   "id": "34057bd4-da53-47fe-a0e9-9535d85e1430",
   "metadata": {},
   "outputs": [
    {
     "data": {
      "text/plain": [
       "1"
      ]
     },
     "execution_count": 63,
     "metadata": {},
     "output_type": "execute_result"
    }
   ],
   "source": [
    "dict[\"me\"]"
   ]
  },
  {
   "cell_type": "code",
   "execution_count": 64,
   "id": "f7fbedb3-6108-457f-afa6-cfc1271d4093",
   "metadata": {},
   "outputs": [
    {
     "data": {
      "text/plain": [
       "4"
      ]
     },
     "execution_count": 64,
     "metadata": {},
     "output_type": "execute_result"
    }
   ],
   "source": [
    "dict[\"Luc\"]"
   ]
  },
  {
   "cell_type": "code",
   "execution_count": 65,
   "id": "2e3fd856-fda9-4643-9181-9d92604bab84",
   "metadata": {},
   "outputs": [],
   "source": [
    "dict[\"someone\"] = 10"
   ]
  },
  {
   "cell_type": "code",
   "execution_count": 66,
   "id": "2f3d7536-610a-42df-b3f3-a9d26e4b3a73",
   "metadata": {},
   "outputs": [
    {
     "data": {
      "text/plain": [
       "{'me': 1, 'hack': 2, 'BUmmle': 3, 'Luc': 4, 'someone': 10}"
      ]
     },
     "execution_count": 66,
     "metadata": {},
     "output_type": "execute_result"
    }
   ],
   "source": [
    "dict"
   ]
  },
  {
   "cell_type": "code",
   "execution_count": 67,
   "id": "36adf1c7-b02f-4a1b-93a5-851b5033e570",
   "metadata": {},
   "outputs": [],
   "source": [
    "del dict[\"someone\"]"
   ]
  },
  {
   "cell_type": "code",
   "execution_count": 68,
   "id": "062a210a-bf66-4899-a422-8853c8027959",
   "metadata": {},
   "outputs": [
    {
     "data": {
      "text/plain": [
       "{'me': 1, 'hack': 2, 'BUmmle': 3, 'Luc': 4}"
      ]
     },
     "execution_count": 68,
     "metadata": {},
     "output_type": "execute_result"
    }
   ],
   "source": [
    "dict"
   ]
  },
  {
   "cell_type": "code",
   "execution_count": 69,
   "id": "e4425020-7f8d-43e1-89a8-e136499ef7ca",
   "metadata": {},
   "outputs": [],
   "source": [
    "dict['someone'] = 10"
   ]
  },
  {
   "cell_type": "code",
   "execution_count": 70,
   "id": "dc93e05c-737c-418a-be4d-7ddd51373976",
   "metadata": {},
   "outputs": [
    {
     "data": {
      "text/plain": [
       "10"
      ]
     },
     "execution_count": 70,
     "metadata": {},
     "output_type": "execute_result"
    }
   ],
   "source": [
    "dict.pop(\"someone\")"
   ]
  },
  {
   "cell_type": "code",
   "execution_count": 71,
   "id": "302a9755-9ae8-40aa-8a77-608cee25c733",
   "metadata": {},
   "outputs": [
    {
     "data": {
      "text/plain": [
       "{'me': 1, 'hack': 2, 'BUmmle': 3, 'Luc': 4}"
      ]
     },
     "execution_count": 71,
     "metadata": {},
     "output_type": "execute_result"
    }
   ],
   "source": [
    "dict"
   ]
  },
  {
   "cell_type": "code",
   "execution_count": 72,
   "id": "ba48c4ec-04ae-4581-ab79-e7fc3ec1d04f",
   "metadata": {},
   "outputs": [
    {
     "data": {
      "text/plain": [
       "dict_keys(['me', 'hack', 'BUmmle', 'Luc'])"
      ]
     },
     "execution_count": 72,
     "metadata": {},
     "output_type": "execute_result"
    }
   ],
   "source": [
    "dict.keys()"
   ]
  },
  {
   "cell_type": "code",
   "execution_count": 73,
   "id": "b543b95b-250f-4b74-8168-f50cb155795f",
   "metadata": {},
   "outputs": [
    {
     "data": {
      "text/plain": [
       "dict_values([1, 2, 3, 4])"
      ]
     },
     "execution_count": 73,
     "metadata": {},
     "output_type": "execute_result"
    }
   ],
   "source": [
    "dict.values()"
   ]
  },
  {
   "cell_type": "code",
   "execution_count": 74,
   "id": "003ce9ab-3c99-4ff3-b249-cbf6ece49f63",
   "metadata": {},
   "outputs": [
    {
     "name": "stdout",
     "output_type": "stream",
     "text": [
      "key: me, value: 1\n",
      "key: hack, value: 2\n",
      "key: BUmmle, value: 3\n",
      "key: Luc, value: 4\n"
     ]
    }
   ],
   "source": [
    "for k, v in dict.items():\n",
    "    print(f\"key: {k}, value: {v}\")\n"
   ]
  },
  {
   "cell_type": "code",
   "execution_count": 75,
   "id": "9fe270a3-097e-4776-9d18-4aa008717296",
   "metadata": {},
   "outputs": [
    {
     "data": {
      "text/plain": [
       "{'me': 1, 'hack': 2, 'BUmmle': 3, 'Luc': 4}"
      ]
     },
     "execution_count": 75,
     "metadata": {},
     "output_type": "execute_result"
    }
   ],
   "source": [
    "dict"
   ]
  },
  {
   "cell_type": "code",
   "execution_count": 76,
   "id": "46e16a89-59ad-4345-9d8a-520a8333698b",
   "metadata": {},
   "outputs": [],
   "source": [
    "dict.update({\"lucia\":10,'mai':21,'hym':10})"
   ]
  },
  {
   "cell_type": "code",
   "execution_count": 77,
   "id": "6ba45c18-4acc-41c9-a926-f4b30f39ec3e",
   "metadata": {},
   "outputs": [
    {
     "data": {
      "text/plain": [
       "{'me': 1, 'hack': 2, 'BUmmle': 3, 'Luc': 4, 'lucia': 10, 'mai': 21, 'hym': 10}"
      ]
     },
     "execution_count": 77,
     "metadata": {},
     "output_type": "execute_result"
    }
   ],
   "source": [
    "dict"
   ]
  },
  {
   "cell_type": "code",
   "execution_count": 78,
   "id": "0de89f2b-6a73-4442-9e50-e5addb674788",
   "metadata": {},
   "outputs": [],
   "source": [
    "tup = zip(range(5), [10, 20, 30, 40])"
   ]
  },
  {
   "cell_type": "code",
   "execution_count": 80,
   "id": "496e0d39-b10a-49a8-b29e-250f04935e81",
   "metadata": {},
   "outputs": [
    {
     "data": {
      "text/plain": [
       "<zip at 0x1e40af08340>"
      ]
     },
     "execution_count": 80,
     "metadata": {},
     "output_type": "execute_result"
    }
   ],
   "source": [
    "tup"
   ]
  },
  {
   "cell_type": "code",
   "execution_count": 81,
   "id": "50a1e62f-9bee-4edf-a647-5b15e77fb209",
   "metadata": {},
   "outputs": [
    {
     "name": "stdout",
     "output_type": "stream",
     "text": [
      "<zip object at 0x000001E40AF08340>\n"
     ]
    }
   ],
   "source": [
    "print(tup)"
   ]
  },
  {
   "cell_type": "code",
   "execution_count": 82,
   "id": "0b3aa11c-8de0-401f-b0a8-e25fe41d3a3d",
   "metadata": {},
   "outputs": [
    {
     "name": "stdout",
     "output_type": "stream",
     "text": [
      "(0, 10)\n",
      "(1, 20)\n",
      "(2, 30)\n",
      "(3, 40)\n"
     ]
    }
   ],
   "source": [
    "for num in tup:\n",
    "    print(num)"
   ]
  },
  {
   "cell_type": "code",
   "execution_count": 90,
   "id": "bd85e78c-0199-4177-adf9-033ec73bde80",
   "metadata": {},
   "outputs": [],
   "source": [
    "del dict"
   ]
  },
  {
   "cell_type": "code",
   "execution_count": 91,
   "id": "c3b7b51d-e4f8-453e-bfd1-d016f7fa8e56",
   "metadata": {},
   "outputs": [],
   "source": [
    "nd = dict(tup)"
   ]
  },
  {
   "cell_type": "code",
   "execution_count": 92,
   "id": "2c7c9dac-d326-4732-8d47-a156c2cd8c47",
   "metadata": {},
   "outputs": [
    {
     "data": {
      "text/plain": [
       "{}"
      ]
     },
     "execution_count": 92,
     "metadata": {},
     "output_type": "execute_result"
    }
   ],
   "source": [
    "nd"
   ]
  },
  {
   "cell_type": "code",
   "execution_count": 93,
   "id": "224363c8-bca8-46fa-9cd3-561b600ee975",
   "metadata": {},
   "outputs": [],
   "source": [
    "tup = zip(range(5), [0, 10, 20, 30, 40])\n",
    "ndict = dict(tup)"
   ]
  },
  {
   "cell_type": "code",
   "execution_count": 94,
   "id": "04af255e-6e13-479c-bd99-455e2988ac0a",
   "metadata": {},
   "outputs": [
    {
     "data": {
      "text/plain": [
       "{0: 0, 1: 10, 2: 20, 3: 30, 4: 40}"
      ]
     },
     "execution_count": 94,
     "metadata": {},
     "output_type": "execute_result"
    }
   ],
   "source": [
    "ndict"
   ]
  },
  {
   "cell_type": "code",
   "execution_count": 95,
   "id": "d148c8d6-f165-4d35-bd94-88c02db162b5",
   "metadata": {},
   "outputs": [
    {
     "data": {
      "text/plain": [
       "['cat', 'dog', 'Bumbo', 'dwarf', 'dragon', 'pegasus', 'aligator', 'lesstail']"
      ]
     },
     "execution_count": 95,
     "metadata": {},
     "output_type": "execute_result"
    }
   ],
   "source": [
    "l"
   ]
  },
  {
   "cell_type": "code",
   "execution_count": 96,
   "id": "26c1e156-e6aa-46de-a511-9d4c68a24c16",
   "metadata": {},
   "outputs": [],
   "source": [
    "l.remove(\"lesstail\")"
   ]
  },
  {
   "cell_type": "code",
   "execution_count": 97,
   "id": "b54c3f23-2664-4ad8-9d9e-ecb9d5cc4e26",
   "metadata": {},
   "outputs": [
    {
     "data": {
      "text/plain": [
       "'Bumbo'"
      ]
     },
     "execution_count": 97,
     "metadata": {},
     "output_type": "execute_result"
    }
   ],
   "source": [
    "l.pop(2)"
   ]
  },
  {
   "cell_type": "code",
   "execution_count": 98,
   "id": "56490e50-a23e-4d69-b915-80c0e4d209ca",
   "metadata": {},
   "outputs": [
    {
     "data": {
      "text/plain": [
       "['cat', 'dog', 'dwarf', 'dragon', 'pegasus', 'aligator']"
      ]
     },
     "execution_count": 98,
     "metadata": {},
     "output_type": "execute_result"
    }
   ],
   "source": [
    "l"
   ]
  },
  {
   "cell_type": "code",
   "execution_count": 99,
   "id": "3666f297-dc18-4dbc-9cfc-76d3b80d5880",
   "metadata": {},
   "outputs": [],
   "source": [
    "l.extend([\"lion\", \"honey badger\"])"
   ]
  },
  {
   "cell_type": "code",
   "execution_count": 100,
   "id": "72e9b4c8-6bbe-4c68-94ce-f2543195e2c3",
   "metadata": {},
   "outputs": [
    {
     "data": {
      "text/plain": [
       "['cat',\n",
       " 'dog',\n",
       " 'dwarf',\n",
       " 'dragon',\n",
       " 'pegasus',\n",
       " 'aligator',\n",
       " 'lion',\n",
       " 'honey badger']"
      ]
     },
     "execution_count": 100,
     "metadata": {},
     "output_type": "execute_result"
    }
   ],
   "source": [
    "l"
   ]
  },
  {
   "cell_type": "code",
   "execution_count": 101,
   "id": "e65ba094-ddcf-4190-b37e-201f104902cd",
   "metadata": {},
   "outputs": [],
   "source": [
    "l.sort(key=len)"
   ]
  },
  {
   "cell_type": "code",
   "execution_count": 102,
   "id": "bff04ab0-4fcd-4601-8d1d-421cd6e12f7a",
   "metadata": {},
   "outputs": [
    {
     "data": {
      "text/plain": [
       "['cat',\n",
       " 'dog',\n",
       " 'lion',\n",
       " 'dwarf',\n",
       " 'dragon',\n",
       " 'pegasus',\n",
       " 'aligator',\n",
       " 'honey badger']"
      ]
     },
     "execution_count": 102,
     "metadata": {},
     "output_type": "execute_result"
    }
   ],
   "source": [
    "l"
   ]
  },
  {
   "cell_type": "code",
   "execution_count": 105,
   "id": "e4bd4fbf-f208-484d-96bf-5f723d45fbad",
   "metadata": {},
   "outputs": [],
   "source": [
    "l.sort(reverse=True)"
   ]
  },
  {
   "cell_type": "code",
   "execution_count": 106,
   "id": "b693d5cc-22cc-4469-94f7-f512c22cee5b",
   "metadata": {},
   "outputs": [
    {
     "data": {
      "text/plain": [
       "['pegasus',\n",
       " 'lion',\n",
       " 'honey badger',\n",
       " 'dwarf',\n",
       " 'dragon',\n",
       " 'dog',\n",
       " 'cat',\n",
       " 'aligator']"
      ]
     },
     "execution_count": 106,
     "metadata": {},
     "output_type": "execute_result"
    }
   ],
   "source": [
    "l"
   ]
  },
  {
   "cell_type": "code",
   "execution_count": 108,
   "id": "88d18c15-0ed3-4f4e-8921-a1c738c96b4e",
   "metadata": {},
   "outputs": [
    {
     "data": {
      "text/plain": [
       "{0: 0, 1: 10, 2: 20, 3: 30, 4: 40}"
      ]
     },
     "execution_count": 108,
     "metadata": {},
     "output_type": "execute_result"
    }
   ],
   "source": [
    "ndict"
   ]
  },
  {
   "cell_type": "code",
   "execution_count": 109,
   "id": "ff90c66f-5be6-4415-86de-ad86f11a72d4",
   "metadata": {},
   "outputs": [
    {
     "data": {
      "text/plain": [
       "100"
      ]
     },
     "execution_count": 109,
     "metadata": {},
     "output_type": "execute_result"
    }
   ],
   "source": [
    "ndict.get(10, 100)"
   ]
  },
  {
   "cell_type": "code",
   "execution_count": 110,
   "id": "a1c861ee-be5c-4929-8354-5172d8482cb2",
   "metadata": {},
   "outputs": [
    {
     "data": {
      "text/plain": [
       "20"
      ]
     },
     "execution_count": 110,
     "metadata": {},
     "output_type": "execute_result"
    }
   ],
   "source": [
    "ndict.get(2, 1929)"
   ]
  },
  {
   "cell_type": "code",
   "execution_count": 112,
   "id": "e0dffa61-2f2e-4f42-9930-c3a66d49eb23",
   "metadata": {},
   "outputs": [
    {
     "data": {
      "text/plain": [
       "1239103"
      ]
     },
     "execution_count": 112,
     "metadata": {},
     "output_type": "execute_result"
    }
   ],
   "source": [
    "ndict.get(20, 1239103)"
   ]
  },
  {
   "cell_type": "code",
   "execution_count": 113,
   "id": "ecb64538-18e4-4156-a7fa-f7298299c308",
   "metadata": {},
   "outputs": [],
   "source": [
    "words = [\"apple\", \"bat\", \"bar\", \"atom\", \"book\"]"
   ]
  },
  {
   "cell_type": "code",
   "execution_count": 115,
   "id": "3630b88b-bf8d-4bef-a1d8-5c2fe9bc9505",
   "metadata": {},
   "outputs": [],
   "source": [
    "unique = {}\n",
    "for word in words:\n",
    "    letter = word[0]\n",
    "    if letter not in unique.keys():\n",
    "        unique[letter] = [word]\n",
    "    else:\n",
    "        unique[letter].append(word)"
   ]
  },
  {
   "cell_type": "code",
   "execution_count": 116,
   "id": "c310bcd4-062b-4cda-9176-f10cfd2843e1",
   "metadata": {},
   "outputs": [
    {
     "data": {
      "text/plain": [
       "{'a': ['apple', 'atom'], 'b': ['bat', 'bar', 'book']}"
      ]
     },
     "execution_count": 116,
     "metadata": {},
     "output_type": "execute_result"
    }
   ],
   "source": [
    "unique"
   ]
  },
  {
   "cell_type": "code",
   "execution_count": 117,
   "id": "57050de8-dd79-4eb0-a531-a491bf5f2ac1",
   "metadata": {},
   "outputs": [],
   "source": [
    "by_letter = {}\n",
    "for word in words:\n",
    "    by_letter.setdefault(word[0], []).append(word)"
   ]
  },
  {
   "cell_type": "code",
   "execution_count": 118,
   "id": "c7fcfc98-4547-412f-b96a-c491a8d2fa0d",
   "metadata": {},
   "outputs": [
    {
     "data": {
      "text/plain": [
       "{'a': ['apple', 'atom'], 'b': ['bat', 'bar', 'book']}"
      ]
     },
     "execution_count": 118,
     "metadata": {},
     "output_type": "execute_result"
    }
   ],
   "source": [
    "by_letter"
   ]
  },
  {
   "cell_type": "code",
   "execution_count": 120,
   "id": "8f7e385d-3de0-4adc-9465-8e7398d7aa70",
   "metadata": {},
   "outputs": [],
   "source": [
    "from collections import defaultdict"
   ]
  },
  {
   "cell_type": "code",
   "execution_count": 121,
   "id": "e04f1c84-b238-4d82-8485-79c09b30480f",
   "metadata": {},
   "outputs": [],
   "source": [
    "by_letter = defaultdict(list)"
   ]
  },
  {
   "cell_type": "code",
   "execution_count": 122,
   "id": "7189a703-a6a5-4230-b690-21fa9ec83f48",
   "metadata": {},
   "outputs": [
    {
     "data": {
      "text/plain": [
       "defaultdict(list, {})"
      ]
     },
     "execution_count": 122,
     "metadata": {},
     "output_type": "execute_result"
    }
   ],
   "source": [
    "by_letter"
   ]
  },
  {
   "cell_type": "code",
   "execution_count": 123,
   "id": "70d33a89-05bf-4d66-9f4a-d85ed4baf4f4",
   "metadata": {},
   "outputs": [],
   "source": [
    "for word in words:\n",
    "    by_letter[word[0]].append(word)"
   ]
  },
  {
   "cell_type": "code",
   "execution_count": 124,
   "id": "491c6c07-7ead-425a-87a4-f43a008eab0b",
   "metadata": {},
   "outputs": [
    {
     "data": {
      "text/plain": [
       "defaultdict(list, {'a': ['apple', 'atom'], 'b': ['bat', 'bar', 'book']})"
      ]
     },
     "execution_count": 124,
     "metadata": {},
     "output_type": "execute_result"
    }
   ],
   "source": [
    "by_letter"
   ]
  },
  {
   "cell_type": "code",
   "execution_count": 125,
   "id": "b6aa086d-c209-4444-ab4a-1e274e8ccece",
   "metadata": {},
   "outputs": [
    {
     "data": {
      "text/plain": [
       "[]"
      ]
     },
     "execution_count": 125,
     "metadata": {},
     "output_type": "execute_result"
    }
   ],
   "source": [
    "by_letter[0]"
   ]
  },
  {
   "cell_type": "code",
   "execution_count": 126,
   "id": "96ad09c5-4255-4591-8a75-2a121117945b",
   "metadata": {},
   "outputs": [
    {
     "data": {
      "text/plain": [
       "[]"
      ]
     },
     "execution_count": 126,
     "metadata": {},
     "output_type": "execute_result"
    }
   ],
   "source": [
    "by_letter[1]"
   ]
  },
  {
   "cell_type": "code",
   "execution_count": 127,
   "id": "8b27a90e-8a55-4eba-8e09-bfd42962b323",
   "metadata": {},
   "outputs": [
    {
     "data": {
      "text/plain": [
       "defaultdict(list,\n",
       "            {'a': ['apple', 'atom'],\n",
       "             'b': ['bat', 'bar', 'book'],\n",
       "             0: [],\n",
       "             1: []})"
      ]
     },
     "execution_count": 127,
     "metadata": {},
     "output_type": "execute_result"
    }
   ],
   "source": [
    "by_letter"
   ]
  },
  {
   "cell_type": "code",
   "execution_count": 128,
   "id": "5de0fcb8-6b7c-4b12-8670-c6ebd7d55a71",
   "metadata": {},
   "outputs": [
    {
     "data": {
      "text/plain": [
       "{1, 2, 3}"
      ]
     },
     "execution_count": 128,
     "metadata": {},
     "output_type": "execute_result"
    }
   ],
   "source": [
    "#create set by 2 ways\n",
    "a = set([1, 2, 3,1, 2, 3, 1, 2,3,3])\n",
    "a"
   ]
  },
  {
   "cell_type": "code",
   "execution_count": 129,
   "id": "d896fa0f-b92c-4475-9f80-6170920110c8",
   "metadata": {},
   "outputs": [],
   "source": [
    "#another way"
   ]
  },
  {
   "cell_type": "code",
   "execution_count": 131,
   "id": "aafb7a1e-15d7-4b55-b738-f8f18b5ffdd3",
   "metadata": {},
   "outputs": [],
   "source": [
    "a = {1, 2,3 ,3 ,1, 2,2 ,1 ,1, 3}"
   ]
  },
  {
   "cell_type": "code",
   "execution_count": 132,
   "id": "b3572f47-0bbb-4c6e-bd4c-a1e8e1679d6f",
   "metadata": {},
   "outputs": [
    {
     "data": {
      "text/plain": [
       "{1, 2, 3}"
      ]
     },
     "execution_count": 132,
     "metadata": {},
     "output_type": "execute_result"
    }
   ],
   "source": [
    "a"
   ]
  },
  {
   "cell_type": "code",
   "execution_count": 133,
   "id": "fe97e498-1fd0-4af8-a5d8-abe0dde0af43",
   "metadata": {},
   "outputs": [],
   "source": [
    "a = {1, 2, 3, 4, 5, 6}\n",
    "b = {2, 3, 4, 7, 8, 9, 10}"
   ]
  },
  {
   "cell_type": "code",
   "execution_count": 134,
   "id": "aa6573a8-b70e-4cc1-b7e7-1ed65fd64924",
   "metadata": {},
   "outputs": [
    {
     "data": {
      "text/plain": [
       "{1, 2, 3, 4, 5, 6, 7, 8, 9, 10}"
      ]
     },
     "execution_count": 134,
     "metadata": {},
     "output_type": "execute_result"
    }
   ],
   "source": [
    "#union\n",
    "a.union(b)"
   ]
  },
  {
   "cell_type": "code",
   "execution_count": 135,
   "id": "e5a8a015-3291-4a60-9454-086ea3f1c924",
   "metadata": {},
   "outputs": [
    {
     "data": {
      "text/plain": [
       "{1, 2, 3, 4, 5, 6, 7, 8, 9, 10}"
      ]
     },
     "execution_count": 135,
     "metadata": {},
     "output_type": "execute_result"
    }
   ],
   "source": [
    "#still union\n",
    "a|b"
   ]
  },
  {
   "cell_type": "code",
   "execution_count": 136,
   "id": "af6e7404-f381-40bf-910e-55a8a3b4406f",
   "metadata": {},
   "outputs": [
    {
     "data": {
      "text/plain": [
       "{2, 3, 4}"
      ]
     },
     "execution_count": 136,
     "metadata": {},
     "output_type": "execute_result"
    }
   ],
   "source": [
    "#intersection\n",
    "a.intersection(b)"
   ]
  },
  {
   "cell_type": "code",
   "execution_count": 137,
   "id": "acb22470-08fe-4ebd-b499-6a61ed500b96",
   "metadata": {},
   "outputs": [
    {
     "data": {
      "text/plain": [
       "{2, 3, 4}"
      ]
     },
     "execution_count": 137,
     "metadata": {},
     "output_type": "execute_result"
    }
   ],
   "source": [
    "#still intersection\n",
    "a&b"
   ]
  },
  {
   "cell_type": "code",
   "execution_count": 139,
   "id": "74299c53-7f5e-4097-9598-92550d535ee3",
   "metadata": {},
   "outputs": [
    {
     "data": {
      "text/plain": [
       "{1, 2, 3, 4, 5, 6}"
      ]
     },
     "execution_count": 139,
     "metadata": {},
     "output_type": "execute_result"
    }
   ],
   "source": [
    "a"
   ]
  },
  {
   "cell_type": "code",
   "execution_count": 140,
   "id": "84fba064-1c77-4f93-af55-3d01a259ec2a",
   "metadata": {},
   "outputs": [],
   "source": [
    "a.add(7)"
   ]
  },
  {
   "cell_type": "code",
   "execution_count": 141,
   "id": "f39f3559-ea13-426c-9980-a3b4d59ccd53",
   "metadata": {},
   "outputs": [
    {
     "data": {
      "text/plain": [
       "{1, 2, 3, 4, 5, 6, 7}"
      ]
     },
     "execution_count": 141,
     "metadata": {},
     "output_type": "execute_result"
    }
   ],
   "source": [
    "a"
   ]
  },
  {
   "cell_type": "code",
   "execution_count": 142,
   "id": "7975e3b4-fb82-4086-873b-7552264474e1",
   "metadata": {},
   "outputs": [],
   "source": [
    "a.add(2)"
   ]
  },
  {
   "cell_type": "code",
   "execution_count": 143,
   "id": "f9e1232b-b7b7-41ae-9786-e3f3424db9c1",
   "metadata": {},
   "outputs": [
    {
     "data": {
      "text/plain": [
       "{1, 2, 3, 4, 5, 6, 7}"
      ]
     },
     "execution_count": 143,
     "metadata": {},
     "output_type": "execute_result"
    }
   ],
   "source": [
    "a"
   ]
  },
  {
   "cell_type": "code",
   "execution_count": 144,
   "id": "e1750b7a-0646-4a61-811e-b6c79724fdb8",
   "metadata": {},
   "outputs": [
    {
     "data": {
      "text/plain": [
       "{1, 2, 3, 4, 5, 6, 7, 8, 9, 10}"
      ]
     },
     "execution_count": 144,
     "metadata": {},
     "output_type": "execute_result"
    }
   ],
   "source": [
    "a | b"
   ]
  },
  {
   "cell_type": "code",
   "execution_count": 145,
   "id": "945e597b-6d47-4c57-9365-d961b42b78ba",
   "metadata": {},
   "outputs": [],
   "source": [
    "a |= b"
   ]
  },
  {
   "cell_type": "code",
   "execution_count": 146,
   "id": "b28328dc-5772-4813-a177-5d021b81c910",
   "metadata": {},
   "outputs": [
    {
     "data": {
      "text/plain": [
       "{1, 2, 3, 4, 5, 6, 7, 8, 9, 10}"
      ]
     },
     "execution_count": 146,
     "metadata": {},
     "output_type": "execute_result"
    }
   ],
   "source": [
    "a #assign union of a and b to a"
   ]
  },
  {
   "cell_type": "code",
   "execution_count": 147,
   "id": "92f42b12-4fc3-4144-af89-b60cb3c588bd",
   "metadata": {},
   "outputs": [
    {
     "data": {
      "text/plain": [
       "True"
      ]
     },
     "execution_count": 147,
     "metadata": {},
     "output_type": "execute_result"
    }
   ],
   "source": [
    "#subset\n",
    "a >= b"
   ]
  },
  {
   "cell_type": "code",
   "execution_count": 148,
   "id": "2ab5eee8-979a-46ec-ae4c-1a05c1cd98f7",
   "metadata": {},
   "outputs": [
    {
     "data": {
      "text/plain": [
       "False"
      ]
     },
     "execution_count": 148,
     "metadata": {},
     "output_type": "execute_result"
    }
   ],
   "source": [
    "a <= b"
   ]
  },
  {
   "cell_type": "code",
   "execution_count": 152,
   "id": "05ee6d9a-0abd-43be-8cce-26a93ad3625e",
   "metadata": {},
   "outputs": [],
   "source": [
    "words = [\"hello\", \"hi\"]"
   ]
  },
  {
   "cell_type": "code",
   "execution_count": 154,
   "id": "3e89201a-d827-4755-8106-592fcde88db7",
   "metadata": {},
   "outputs": [],
   "source": [
    "greet = [word + \" phuoc\" for word in words]"
   ]
  },
  {
   "cell_type": "code",
   "execution_count": 155,
   "id": "a718bf42-98b8-4524-a9b2-3903f3c39fdb",
   "metadata": {},
   "outputs": [
    {
     "data": {
      "text/plain": [
       "['hello phuoc', 'hi phuoc']"
      ]
     },
     "execution_count": 155,
     "metadata": {},
     "output_type": "execute_result"
    }
   ],
   "source": [
    "greet"
   ]
  },
  {
   "cell_type": "code",
   "execution_count": 156,
   "id": "31c5a2ea-abe7-497d-af93-10464fb1194d",
   "metadata": {},
   "outputs": [],
   "source": [
    "greet = [word.upper() for word in words]"
   ]
  },
  {
   "cell_type": "code",
   "execution_count": 157,
   "id": "27a43c7d-03be-4b4c-8d99-f9c790167afc",
   "metadata": {},
   "outputs": [
    {
     "data": {
      "text/plain": [
       "['HELLO', 'HI']"
      ]
     },
     "execution_count": 157,
     "metadata": {},
     "output_type": "execute_result"
    }
   ],
   "source": [
    "greet"
   ]
  },
  {
   "cell_type": "code",
   "execution_count": 159,
   "id": "6df2b143-460f-44c3-acb3-0090402e82c6",
   "metadata": {},
   "outputs": [],
   "source": [
    "dict = {(1,2): word for word in words}"
   ]
  },
  {
   "cell_type": "code",
   "execution_count": 160,
   "id": "400c463c-63a3-4aad-a8bc-5ce5bb6eb834",
   "metadata": {},
   "outputs": [
    {
     "data": {
      "text/plain": [
       "{(1, 2): 'hi'}"
      ]
     },
     "execution_count": 160,
     "metadata": {},
     "output_type": "execute_result"
    }
   ],
   "source": [
    "dict"
   ]
  },
  {
   "cell_type": "code",
   "execution_count": 161,
   "id": "29949d3e-2276-4423-b927-91f37c801c43",
   "metadata": {},
   "outputs": [],
   "source": [
    "nums = [str(num) for num in range(0, 11)]"
   ]
  },
  {
   "cell_type": "code",
   "execution_count": 162,
   "id": "692fb8e7-41de-4591-871f-2aee217417ee",
   "metadata": {},
   "outputs": [
    {
     "data": {
      "text/plain": [
       "['0', '1', '2', '3', '4', '5', '6', '7', '8', '9', '10']"
      ]
     },
     "execution_count": 162,
     "metadata": {},
     "output_type": "execute_result"
    }
   ],
   "source": [
    "nums"
   ]
  },
  {
   "cell_type": "code",
   "execution_count": 163,
   "id": "1ae485a5-b515-4fc7-9d12-10b4932642d9",
   "metadata": {},
   "outputs": [],
   "source": [
    "number = map(int, nums)"
   ]
  },
  {
   "cell_type": "code",
   "execution_count": 166,
   "id": "ab44b0f3-91a7-439f-81af-6cb8d13ada62",
   "metadata": {},
   "outputs": [],
   "source": [
    "number = list(number)"
   ]
  },
  {
   "cell_type": "code",
   "execution_count": 167,
   "id": "3dadcf53-a228-4011-afe2-cbc07220fea6",
   "metadata": {},
   "outputs": [
    {
     "data": {
      "text/plain": [
       "[0, 1, 2, 3, 4, 5, 6, 7, 8, 9, 10]"
      ]
     },
     "execution_count": 167,
     "metadata": {},
     "output_type": "execute_result"
    }
   ],
   "source": [
    "number"
   ]
  },
  {
   "cell_type": "code",
   "execution_count": 169,
   "id": "703bf82e-7daa-45b2-ad90-d73be75843e7",
   "metadata": {},
   "outputs": [],
   "source": [
    "ndict = {k:v for k, v in enumerate(number)}"
   ]
  },
  {
   "cell_type": "code",
   "execution_count": 170,
   "id": "512e7533-08c0-472e-a56b-94e4c3df9b1b",
   "metadata": {},
   "outputs": [
    {
     "data": {
      "text/plain": [
       "{0: 0, 1: 1, 2: 2, 3: 3, 4: 4, 5: 5, 6: 6, 7: 7, 8: 8, 9: 9, 10: 10}"
      ]
     },
     "execution_count": 170,
     "metadata": {},
     "output_type": "execute_result"
    }
   ],
   "source": [
    "ndict"
   ]
  },
  {
   "cell_type": "code",
   "execution_count": 171,
   "id": "41011a79-789a-4429-a2d4-7e20eeafbc1d",
   "metadata": {},
   "outputs": [],
   "source": [
    "anof = lambda x : x**2"
   ]
  },
  {
   "cell_type": "code",
   "execution_count": 172,
   "id": "207b4262-d8e6-4a51-992d-3837b50232e5",
   "metadata": {},
   "outputs": [],
   "source": [
    "snum = list(map(anof, range(0, 10)))"
   ]
  },
  {
   "cell_type": "code",
   "execution_count": 173,
   "id": "f36255bf-9fc4-484a-b080-b820719b23cb",
   "metadata": {},
   "outputs": [
    {
     "data": {
      "text/plain": [
       "[0, 1, 4, 9, 16, 25, 36, 49, 64, 81]"
      ]
     },
     "execution_count": 173,
     "metadata": {},
     "output_type": "execute_result"
    }
   ],
   "source": [
    "snum"
   ]
  },
  {
   "cell_type": "code",
   "execution_count": 174,
   "id": "b189fee4-f6dc-493a-bffa-0630cd652e93",
   "metadata": {},
   "outputs": [
    {
     "data": {
      "text/plain": [
       "'C:\\\\Users\\\\Admin\\\\pda'"
      ]
     },
     "execution_count": 174,
     "metadata": {},
     "output_type": "execute_result"
    }
   ],
   "source": [
    "import os\n",
    "os.getcwd()"
   ]
  },
  {
   "cell_type": "code",
   "execution_count": 175,
   "id": "82856857-6941-4de6-9d10-cba6f8de83c0",
   "metadata": {},
   "outputs": [],
   "source": [
    "path = \"poetry.txt\""
   ]
  },
  {
   "cell_type": "code",
   "execution_count": 190,
   "id": "a2016392-88d1-4754-8b4e-a7af545f51e1",
   "metadata": {},
   "outputs": [],
   "source": [
    "lines = [line.rstrip() for line in open(path)]"
   ]
  },
  {
   "cell_type": "code",
   "execution_count": 191,
   "id": "9be8a3ac-5ffe-41c2-837d-cae414c39b03",
   "metadata": {},
   "outputs": [
    {
     "data": {
      "text/plain": [
       "['Hold fast to dreams',\n",
       " 'For if dreams die',\n",
       " 'Life is a broken-winged bird',\n",
       " 'That cannot fly.',\n",
       " 'Hold fast to dreams',\n",
       " 'For when dreams go',\n",
       " 'Life is a barren field',\n",
       " 'Frozen with snow.']"
      ]
     },
     "execution_count": 191,
     "metadata": {},
     "output_type": "execute_result"
    }
   ],
   "source": [
    "lines"
   ]
  },
  {
   "cell_type": "code",
   "execution_count": 192,
   "id": "1021dd26-e0a1-457f-a391-d6d4426fe512",
   "metadata": {},
   "outputs": [],
   "source": [
    "file.close()"
   ]
  },
  {
   "cell_type": "code",
   "execution_count": 194,
   "id": "e555406e-1dd5-4948-973c-e0957b39dc17",
   "metadata": {},
   "outputs": [],
   "source": [
    "nlines = []\n",
    "with open(path, encoding = 'utf-8') as file:\n",
    "    nlines = [line.rstrip() for line in file]"
   ]
  },
  {
   "cell_type": "code",
   "execution_count": 195,
   "id": "6d671c10-669d-4437-89a7-d198a0a7e088",
   "metadata": {},
   "outputs": [
    {
     "data": {
      "text/plain": [
       "['Hold fast to dreams',\n",
       " 'For if dreams die',\n",
       " 'Life is a broken-winged bird',\n",
       " 'That cannot fly.',\n",
       " 'Hold fast to dreams',\n",
       " 'For when dreams go',\n",
       " 'Life is a barren field',\n",
       " 'Frozen with snow.']"
      ]
     },
     "execution_count": 195,
     "metadata": {},
     "output_type": "execute_result"
    }
   ],
   "source": [
    "nlines"
   ]
  },
  {
   "cell_type": "code",
   "execution_count": 196,
   "id": "1964dcd4-3d8b-4600-bcf4-d80ed8ae6848",
   "metadata": {},
   "outputs": [
    {
     "data": {
      "text/plain": [
       "'Hold'"
      ]
     },
     "execution_count": 196,
     "metadata": {},
     "output_type": "execute_result"
    }
   ],
   "source": [
    "#read method\n",
    "f1 = open(path)\n",
    "f1.read(4)"
   ]
  },
  {
   "cell_type": "code",
   "execution_count": 199,
   "id": "d2a09151-1d22-4d8e-854f-22de789ed425",
   "metadata": {},
   "outputs": [
    {
     "data": {
      "text/plain": [
       "4"
      ]
     },
     "execution_count": 199,
     "metadata": {},
     "output_type": "execute_result"
    }
   ],
   "source": [
    "#tell give current pos of cusor\n",
    "f1.tell() "
   ]
  },
  {
   "cell_type": "code",
   "execution_count": null,
   "id": "9d57c8ad-07c9-4b11-8ddb-760e58b3faaa",
   "metadata": {},
   "outputs": [],
   "source": []
  }
 ],
 "metadata": {
  "kernelspec": {
   "display_name": "Python [conda env:base] *",
   "language": "python",
   "name": "conda-base-py"
  },
  "language_info": {
   "codemirror_mode": {
    "name": "ipython",
    "version": 3
   },
   "file_extension": ".py",
   "mimetype": "text/x-python",
   "name": "python",
   "nbconvert_exporter": "python",
   "pygments_lexer": "ipython3",
   "version": "3.13.5"
  }
 },
 "nbformat": 4,
 "nbformat_minor": 5
}
