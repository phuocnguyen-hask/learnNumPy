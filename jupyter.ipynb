{
 "cells": [
  {
   "cell_type": "code",
   "execution_count": 1,
   "id": "92f7d840-4f4a-4c5f-a02b-9770020c0c76",
   "metadata": {},
   "outputs": [],
   "source": [
    "import numpy as np"
   ]
  },
  {
   "cell_type": "markdown",
   "id": "bb8ed953-5aeb-45fd-b22a-6bb64ab38a18",
   "metadata": {},
   "source": [
    "### Modes\n",
    "- M -> Markdown\n",
    "- Y -> Code\n",
    "- R -> Raw NBConvert\n",
    "### Shortcut\n",
    "- A: Add cell above current cell\n",
    "- B: Add cell below current cell\n",
    "- D + D: delete current cell\n",
    "- Z: Undo previous action\n",
    "- Shift + Enter: Run current cell and move to next \n",
    "- Ctrl + Enter: Run current cell and stay in the current cell\n",
    "- Alt + Enter: Run cell and insert cell below"
   ]
  },
  {
   "cell_type": "code",
   "execution_count": null,
   "id": "3881649e-b40f-4b5e-bcde-5ef0596ff00c",
   "metadata": {},
   "outputs": [],
   "source": []
  },
  {
   "cell_type": "code",
   "execution_count": null,
   "id": "60ba05e7-6c11-4f98-a928-85838857dc07",
   "metadata": {},
   "outputs": [],
   "source": []
  }
 ],
 "metadata": {
  "kernelspec": {
   "display_name": "Python [conda env:base] *",
   "language": "python",
   "name": "conda-base-py"
  },
  "language_info": {
   "codemirror_mode": {
    "name": "ipython",
    "version": 3
   },
   "file_extension": ".py",
   "mimetype": "text/x-python",
   "name": "python",
   "nbconvert_exporter": "python",
   "pygments_lexer": "ipython3",
   "version": "3.13.5"
  }
 },
 "nbformat": 4,
 "nbformat_minor": 5
}
